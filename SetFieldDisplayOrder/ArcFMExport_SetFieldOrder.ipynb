{
 "cells": [
  {
   "cell_type": "code",
   "execution_count": null,
   "metadata": {},
   "outputs": [],
   "source": [
    "#Import packages\n",
    "\n",
    "import json\n",
    "import arcgis\n",
    "import arcpy\n",
    "import pandas as pd\n",
    "import xml.etree.ElementTree as ET\n",
    "import sys\n",
    "ipython = get_ipython()\n",
    "\n",
    "def hide_traceback(exc_tuple=None, filename=None, tb_offset=None,\n",
    "                   exception_only=False, running_compiled_code=False):\n",
    "    etype, value, tb = sys.exc_info()\n",
    "    value.__cause__ = None  # suppress chained exceptions\n",
    "    return ipython._showtraceback(etype, value, ipython.InteractiveTB.get_exception_only(etype, value))\n",
    "\n",
    "ipython.showtraceback = hide_traceback\n"
   ]
  },
  {
   "cell_type": "code",
   "execution_count": null,
   "metadata": {},
   "outputs": [],
   "source": [
    "# Setting Input Excel\n",
    "\n",
    "field_order_excel = input(\"Excel file path having ordered fields: \\nEx: C:\\\\temp\\\\FCToBeFixed.xlsx (Without quotes)\\n\\n\")\n",
    "\n",
    "print(\"\\nThis excel to be used for setting field order in ArcFM properties.\")\n"
   ]
  },
  {
   "cell_type": "code",
   "execution_count": null,
   "metadata": {},
   "outputs": [],
   "source": [
    "# Verifying input excel\n",
    "\n",
    "sheet= pd.read_excel(field_order_excel, dtype=str)\n",
    "\n",
    "full_table = pd.DataFrame(sheet,columns=['Feature Class','Field'])\n",
    "\n",
    "if not(('Feature Class' in full_table.columns) and ('Field' in full_table.columns)):\n",
    "    raise ProcessLookupError(\"\\nInput excel does not have all 2 required columns. \\nPlease provide valid input excel specified by the process.\")\n",
    "else:\n",
    "    print(\"Great, It's a valid excel format.\")"
   ]
  },
  {
   "cell_type": "code",
   "execution_count": null,
   "metadata": {},
   "outputs": [],
   "source": [
    "# Read Excel file \n",
    "\n",
    "field_order = full_table.groupby('Feature Class')['Field'].apply(list).to_dict()\n",
    "\n",
    "print(json.dumps(field_order, indent=1))\n",
    "#print(field_order.keys())"
   ]
  },
  {
   "cell_type": "code",
   "execution_count": null,
   "metadata": {},
   "outputs": [],
   "source": [
    "# Specify Exported ArcFM Properties XML for reference\n",
    "\n",
    "Export_ArcFM_Properties_XML = input(\"Exported ArcFM Properties XML file path: \\nEx: C:\\\\temp\\\\ArcFM_all_default_properties.xml(Without quotes)\\n\\n\") \n",
    "\n",
    "Import_ArcFM_Properties_XML = Export_ArcFM_Properties_XML.replace('.xml','_ForImport.xml')\n",
    "\n",
    "print(\"\\nExported ArcFM Properties XML(%s) to be used for reference in setting field order according to excel(%s). \\n\\nA new XML file will be genrated for importing at this location \\n%s\" %(Export_ArcFM_Properties_XML,field_order_excel,Import_ArcFM_Properties_XML))\n"
   ]
  },
  {
   "cell_type": "code",
   "execution_count": null,
   "metadata": {},
   "outputs": [],
   "source": [
    "# Preparing XML for import\n",
    "\n",
    "tree = ET.parse(Export_ArcFM_Properties_XML)\n",
    "root = tree.getroot()\n",
    "\n",
    "for feature, fieldlist in field_order.items():\n",
    "    feature_class_element = root.find('.//*[FEATURENAME=\"%s\"]' %feature)\n",
    "    if feature_class_element is None:\n",
    "        raise ProcessLookupError(\"\\n%s feature (specified in excel) does not exist in ArcFM Export XML. \\nAborting process\" %feature)\n",
    "        \n",
    "    subtype_elements = feature_class_element.findall('.//SUBTYPE')\n",
    "    if len(subtype_elements) == 0:\n",
    "        raise ProcessLookupError(\"\\nSubType does not exist for %s feature in ArcFM Export XML. \\nAborting process\" %(feature))\n",
    "    \n",
    "    print(\"Applying field order for %s feature.\" %(feature))\n",
    "    \n",
    "    for subtype_element in subtype_elements:\n",
    "        parent_map = {c: p for p in subtype_element.getiterator() for c in p}    \n",
    "        child = subtype_element.find('.//QAINITIALIZED')\n",
    "        index = list(parent_map[child]).index(child) + 1        \n",
    "        for (display_index, field) in enumerate(fieldlist, start=index):\n",
    "            field_element = subtype_element.find('.//*[FIELDNAME=\"%s\"]' %field)\n",
    "            \n",
    "            if (field_element != None):\n",
    "                subtype_element.remove(field_element)\n",
    "                subtype_element.insert(display_index,field_element)\n",
    "                #print(display_index, field,field_element)\n",
    "            else:\n",
    "                print(\"Can not set display order for %s field, it does not found in %s feature.\" %(field,feature))\n",
    "\n",
    "tree.write(Import_ArcFM_Properties_XML)\n",
    "\n",
    "print(\"\\nA new XML file genrated for importing at this location \\n%s\" %(Import_ArcFM_Properties_XML))\n",
    "\n",
    "    "
   ]
  },
  {
   "cell_type": "code",
   "execution_count": null,
   "metadata": {},
   "outputs": [],
   "source": []
  }
 ],
 "metadata": {
  "kernelspec": {
   "display_name": "Python 3",
   "language": "python",
   "name": "python3"
  },
  "language_info": {
   "codemirror_mode": {
    "name": "ipython",
    "version": 3
   },
   "file_extension": ".py",
   "mimetype": "text/x-python",
   "name": "python",
   "nbconvert_exporter": "python",
   "pygments_lexer": "ipython3",
   "version": "3.7.9"
  }
 },
 "nbformat": 4,
 "nbformat_minor": 4
}
